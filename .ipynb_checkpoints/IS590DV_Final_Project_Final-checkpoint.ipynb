{
 "cells": [
  {
   "cell_type": "code",
   "execution_count": 1,
   "metadata": {},
   "outputs": [],
   "source": [
    "import pandas as pd\n",
    "import numpy as np\n",
    "import matplotlib.pyplot as plt\n",
    "from datetime import datetime\n",
    "import bqplot as bq\n",
    "import ipywidgets as ipy\n",
    "import calendar\n",
    "import squarify\n",
    "import matplotlib\n",
    "import bqplot.market_map\n",
    "import warnings\n",
    "%matplotlib inline\n",
    "warnings.filterwarnings('ignore')"
   ]
  },
  {
   "cell_type": "code",
   "execution_count": 2,
   "metadata": {},
   "outputs": [],
   "source": [
    "df_adrd = pd.read_csv(\"Accidental_Drug_Related_Deaths_2012-2018.csv\")"
   ]
  },
  {
   "cell_type": "code",
   "execution_count": 3,
   "metadata": {},
   "outputs": [],
   "source": [
    "df_adrd['Year'] = pd.to_datetime(df_adrd['Date']).dt.year\n",
    "df_adrd['Year'].fillna(0, inplace=True)\n",
    "df_adrd['Year'] = df_adrd['Year'].apply(int)"
   ]
  },
  {
   "cell_type": "code",
   "execution_count": 4,
   "metadata": {},
   "outputs": [],
   "source": [
    "df_top_drugs = pd.DataFrame()\n",
    "\n",
    "df_top_drugs['Heroin'] = df_adrd.groupby('Year').Heroin.count()\n",
    "\n",
    "df_top_drugs['Cocaine'] = df_adrd.groupby('Year').Cocaine.count()\n",
    "\n",
    "df_top_drugs['Fentanyl'] = df_adrd.groupby('Year').Fentanyl.count()\n",
    "\n",
    "df_top_drugs['Benzodiazepine'] = df_adrd.groupby('Year').Benzodiazepine.count()\n",
    "\n",
    "df_top_drugs['Ethanol'] = df_adrd.groupby('Year').Ethanol.count()"
   ]
  },
  {
   "cell_type": "code",
   "execution_count": 5,
   "metadata": {},
   "outputs": [],
   "source": [
    "df_top_drugs.reset_index(inplace = True)\n",
    "df_top_drugs = df_top_drugs[df_top_drugs.Year != 0]"
   ]
  },
  {
   "cell_type": "markdown",
   "metadata": {},
   "source": [
    "### Selectors"
   ]
  },
  {
   "cell_type": "markdown",
   "metadata": {},
   "source": [
    "#### 1. Drugs dropdown"
   ]
  },
  {
   "cell_type": "code",
   "execution_count": 6,
   "metadata": {},
   "outputs": [],
   "source": [
    "drop_drug = ipy.Dropdown(\n",
    "            options=['Benzodiazepine', 'Cocaine', 'Ethanol', 'Fentanyl', 'Heroin','FentanylAnalogue','Oxycodone','Oxymorphone',\n",
    "                    'Hydrocodone','Methadone','Amphet','Tramad','Morphine_NotHeroin','Hydromorphone','OpiateNOS','AnyOpioid'],\n",
    "            value='Benzodiazepine',\n",
    "            disabled=False\n",
    "        )"
   ]
  },
  {
   "cell_type": "markdown",
   "metadata": {},
   "source": [
    "#### 2. City market map"
   ]
  },
  {
   "cell_type": "code",
   "execution_count": 7,
   "metadata": {},
   "outputs": [],
   "source": [
    "top_cities = df_adrd.groupby(\"DeathCity\").count()['ID'].nlargest(12)\n",
    "\n",
    "color_scale = bq.ColorScale(scheme = \"Blues\")\n",
    "color_axis = bq.ColorAxis(scale = color_scale, label = \"Death Cities\")\n",
    "\n",
    "my_map = bq.market_map.MarketMap(\n",
    "    names = top_cities.index.values,\n",
    "    ref_data = top_cities,\n",
    "    color = top_cities,\n",
    "    scales = {'color': color_scale},\n",
    "    axes = [color_axis],\n",
    "#     rows=2,\n",
    "#     cols=6,\n",
    "#     min_aspect_ratio=2\n",
    "    max_aspect_ratio=1.33\n",
    "\n",
    ")"
   ]
  },
  {
   "cell_type": "code",
   "execution_count": 8,
   "metadata": {},
   "outputs": [],
   "source": [
    "df_adrd.dropna(subset=['Date'], inplace=True)\n",
    "df_adrd['Date'] = pd.to_datetime(df_adrd['Date'], format='%m/%d/%Y %I:%M:%S %p')\n",
    "df_adrd['Day of the week'] = df_adrd['Date'].dt.weekday\n",
    "df_adrd.dropna(subset=['Day of the week'], inplace = True)\n",
    "df_adrd['Day of the week'] = df_adrd['Day of the week'].astype(int)\n",
    "df_adrd['Day of the week'] = df_adrd['Day of the week'].apply(lambda x: calendar.day_abbr[x])"
   ]
  },
  {
   "cell_type": "code",
   "execution_count": 9,
   "metadata": {},
   "outputs": [],
   "source": [
    "initial_df = df_adrd[df_adrd[drop_drug.value] == 'Y']\n",
    "drug_df = df_adrd[df_adrd['Benzodiazepine'] == 'Y']\n",
    "new_df_weekday = pd.DataFrame()\n",
    "new_df_weekday = drug_df.groupby(['Day of the week']).ID.count().to_frame().reindex(['Sun',\n",
    "                                                                                 'Mon',\n",
    "                                                                                 'Tue',\n",
    "                                                                                 'Wed',\n",
    "                                                                                 'Thu',\n",
    "                                                                                 'Fri',\n",
    "                                                                                 'Sat'])"
   ]
  },
  {
   "cell_type": "code",
   "execution_count": 10,
   "metadata": {},
   "outputs": [],
   "source": [
    "df_adrd['Year'] = pd.to_datetime(df_adrd['Date']).dt.year\n",
    "df_adrd['Year'].fillna(0, inplace=True)\n",
    "df_adrd['Year'] = df_adrd['Year'].apply(int)"
   ]
  },
  {
   "cell_type": "code",
   "execution_count": 11,
   "metadata": {},
   "outputs": [],
   "source": [
    "df_drugs = pd.DataFrame()\n",
    "df_drugs['Heroin'] = df_adrd.groupby('Year').Heroin.count()\n",
    "df_drugs['Cocaine'] = df_adrd.groupby(['Year']).Cocaine.count()\n",
    "df_drugs['Fentanyl'] = df_adrd.groupby(['Year']).Fentanyl.count()\n",
    "df_drugs['Benzodiazepine'] = df_adrd.groupby(['Year']).Benzodiazepine.count()\n",
    "df_drugs['Ethanol'] = df_adrd.groupby(['Year']).Ethanol.count()\n",
    "df_drugs['FentanylAnalogue'] = df_adrd.groupby(['Year']).FentanylAnalogue.count()\n",
    "df_drugs['Oxycodone'] = df_adrd.groupby(['Year']).Oxycodone.count()\n",
    "df_drugs['Oxymorphone'] = df_adrd.groupby(['Year']).Oxymorphone.count()\n",
    "df_drugs['Hydrocodone'] = df_adrd.groupby(['Year']).Hydrocodone.count()\n",
    "df_drugs['Methadone'] = df_adrd.groupby(['Year']).Methadone.count()\n",
    "df_drugs['Amphet'] = df_adrd.groupby(['Year']).Amphet.count()\n",
    "df_drugs['Tramad'] = df_adrd.groupby(['Year']).Tramad.count()\n",
    "df_drugs['Morphine_NotHeroin'] = df_adrd.groupby(['Year']).Morphine_NotHeroin.count()\n",
    "df_drugs['Hydromorphone'] = df_adrd.groupby(['Year']).Hydromorphone.count()\n",
    "df_drugs['OpiateNOS'] = df_adrd.groupby(['Year']).OpiateNOS.count()\n",
    "df_drugs['AnyOpioid'] = df_adrd.groupby(['Year']).AnyOpioid.count()"
   ]
  },
  {
   "cell_type": "code",
   "execution_count": 12,
   "metadata": {},
   "outputs": [],
   "source": [
    "df_drugs.reset_index(inplace=True)"
   ]
  },
  {
   "cell_type": "markdown",
   "metadata": {},
   "source": [
    "# DROPDOWN"
   ]
  },
  {
   "cell_type": "code",
   "execution_count": 13,
   "metadata": {},
   "outputs": [],
   "source": [
    "drop_drug = ipy.Dropdown(\n",
    "            options=['Benzodiazepine', 'Cocaine', 'Ethanol', 'Fentanyl', 'Heroin','FentanylAnalogue','Oxycodone','Oxymorphone',\n",
    "                    'Hydrocodone','Methadone','Amphet','Tramad','Morphine_NotHeroin','Hydromorphone','OpiateNOS','AnyOpioid'],\n",
    "            value='Benzodiazepine',\n",
    "            disabled=False\n",
    "        )"
   ]
  },
  {
   "cell_type": "markdown",
   "metadata": {},
   "source": [
    "# LINE CHART "
   ]
  },
  {
   "cell_type": "code",
   "execution_count": 14,
   "metadata": {},
   "outputs": [],
   "source": [
    "x_ord_lc = bq.OrdinalScale()\n",
    "y_lin_lc = bq.LinearScale()\n",
    "\n",
    "x_ax_lc = bq.Axis(scale = x_ord_lc, label = 'Year')\n",
    "y_ax_lc = bq.Axis(scale = y_lin_lc, orientation = 'vertical', label = 'Number of Deaths')\n",
    "\n",
    "x_data_lc = list(df_drugs.Year)\n",
    "y_data_lc = df_drugs[str(drop_drug.value)]\n",
    "\n",
    "line = bq.Lines(x=x_data_lc,\n",
    "                y=y_data_lc,\n",
    "                scales={'x': x_ord_lc, 'y': y_lin_lc},\n",
    "                stroke_width=3,\n",
    "                colors=['teal'],\n",
    "                display_legend=True,\n",
    "                labels=[str(drop_drug.value)]\n",
    "               )\n",
    "\n",
    "\n",
    "year_fig = bq.Figure(marks = [line], axes = [x_ax_lc, y_ax_lc], legend_location='top-left',\n",
    "               title = 'Death rate by drugs over years')\n",
    "year_fig.layout.width = '600px'"
   ]
  },
  {
   "cell_type": "markdown",
   "metadata": {},
   "source": [
    "# BAR CHART - WEEK"
   ]
  },
  {
   "cell_type": "code",
   "execution_count": 15,
   "metadata": {},
   "outputs": [],
   "source": [
    "x_ord_bc = bq.OrdinalScale()\n",
    "y_lin_bc = bq.LinearScale()\n",
    "\n",
    "ax_x_bc = bq.Axis(scale=x_ord_bc, label = 'Days of a week', grid_lines = 'none')\n",
    "ax_y_bc = bq.Axis(scale=y_lin_bc, label = 'Drug caused deaths', grid_lines = 'none', orientation='vertical')\n",
    "\n",
    "bar = bq.Bars(x=list(new_df_weekday.index), y=list(new_df_weekday['ID']), scales={'x': x_ord_bc, 'y': y_lin_bc},\n",
    "              colors = ['Orange'], padding = 0.2)\n",
    "\n",
    "week_fig = bq.Figure(marks=[bar], axes=[ax_x_bc, ax_y_bc], title = 'Deaths/weekday from 2012 - 2018')\n",
    "week_fig.layout.width = '600px'"
   ]
  },
  {
   "cell_type": "markdown",
   "metadata": {},
   "source": [
    "# BAR CHART - LOCATION"
   ]
  },
  {
   "cell_type": "code",
   "execution_count": 16,
   "metadata": {},
   "outputs": [],
   "source": [
    "df_loc = pd.DataFrame()\n",
    "df_loc['Count'] = df_adrd.groupby('Location').count()['ID']"
   ]
  },
  {
   "cell_type": "code",
   "execution_count": 17,
   "metadata": {},
   "outputs": [],
   "source": [
    "df_loc.reset_index(inplace=True)"
   ]
  },
  {
   "cell_type": "code",
   "execution_count": 18,
   "metadata": {},
   "outputs": [],
   "source": [
    "x_ord_loc = bq.OrdinalScale()\n",
    "y_lin_loc = bq.LinearScale()\n",
    "\n",
    "x_data_loc = list(df_loc['Location'])\n",
    "y_data_loc = df_loc['Count']\n",
    "\n",
    "bar_loc = bq.Bars(x=x_data_loc, y=y_data_loc, scales={'x': x_ord_loc, 'y': y_lin_loc})\n",
    "\n",
    "ax_x_loc = bq.Axis(scale=x_ord_loc, grid_lines='solid', label='X')\n",
    "ax_y_loc = bq.Axis(scale=y_lin_loc, orientation='vertical', grid_lines='solid', label='Y')\n",
    "\n",
    "fig_loc = bq.Figure(marks=[bar_loc], axes=[ax_x_loc, ax_y_loc], title = 'Title')\n",
    "fig_loc.layout.width = '600px'"
   ]
  },
  {
   "cell_type": "markdown",
   "metadata": {},
   "source": [
    "# ON CHANGE"
   ]
  },
  {
   "cell_type": "code",
   "execution_count": 19,
   "metadata": {},
   "outputs": [],
   "source": [
    "def on_change_city(event):\n",
    "    city_df = df_adrd[(df_adrd['DeathCity'].isin(event['new'])) & (df_adrd[drop_drug.value] == 'Y')]\n",
    "    new_df_weekday = city_df.groupby(['Day of the week']).ID.count().to_frame().reindex(['Sun',\n",
    "                                                                                         'Mon',\n",
    "                                                                                         'Tue',\n",
    "                                                                                         'Wed',\n",
    "                                                                                         'Thu',\n",
    "                                                                                         'Fri',\n",
    "                                                                                         'Sat'])\n",
    "    bar.y = list(new_df_weekday['ID'])\n",
    "    line.y = df_adrd.query('DeathCity == '+str(event[\"new\"])+' & '+drop_drug.value+' == \"Y\"').groupby(['Year'])['ID'].count()\n",
    "    bar_loc.y = df_adrd.query('DeathCity == '+str(event[\"new\"])+' & '+drop_drug.value+' == \"Y\"').groupby(['Location'])['ID'].count()\n",
    "\n",
    "\n",
    "\n",
    "\n",
    "    \n",
    "    \n",
    "def on_change_drug(event):\n",
    "    drug_df = df_adrd[(df_adrd[event['new']] == 'Y') & (df_adrd['DeathCity'].isin(my_map.selected))]\n",
    "    new_df_weekday = pd.DataFrame()\n",
    "    new_df_weekday = drug_df.groupby(['Day of the week']).ID.count().to_frame().reindex(['Sun',\n",
    "                                                                                         'Mon',\n",
    "                                                                                         'Tue',\n",
    "                                                                                         'Wed',\n",
    "                                                                                         'Thu',\n",
    "                                                                                         'Fri',\n",
    "                                                                                         'Sat'])\n",
    "    bar.y = list(new_df_weekday['ID'])\n",
    "    line.y = df_adrd.query('DeathCity == '+str(my_map.selected)+' & '+event[\"new\"]+' == \"Y\"').groupby(['Year'])['ID'].count()\n",
    "    line.labels = [drop_drug.value]\n",
    "    bar_loc.y = df_adrd.query('DeathCity == '+str(my_map.selected)+' & '+event[\"new\"]+' == \"Y\"').groupby(['Location'])['ID'].count()\n",
    "\n",
    "\n",
    "\n",
    "my_map.observe(on_change_city, ['selected'])\n",
    "drop_drug.observe(on_change_drug, ['value'])\n"
   ]
  },
  {
   "cell_type": "code",
   "execution_count": 20,
   "metadata": {
    "scrolled": false
   },
   "outputs": [
    {
     "data": {
      "application/vnd.jupyter.widget-view+json": {
       "model_id": "27363ac45fe04c49b221efb356ee3f61",
       "version_major": 2,
       "version_minor": 0
      },
      "text/plain": [
       "HBox(children=(Dropdown(options=('Benzodiazepine', 'Cocaine', 'Ethanol', 'Fentanyl', 'Heroin', 'FentanylAnalog…"
      ]
     },
     "metadata": {},
     "output_type": "display_data"
    },
    {
     "data": {
      "application/vnd.jupyter.widget-view+json": {
       "model_id": "3e30d418faa049d1a0c1ec5ff2ded493",
       "version_major": 2,
       "version_minor": 0
      },
      "text/plain": [
       "HBox(children=(MarketMap(axes=[ColorAxis(label='Death Cities', scale=ColorScale(scheme='Blues'))], color=array…"
      ]
     },
     "metadata": {},
     "output_type": "display_data"
    },
    {
     "data": {
      "application/vnd.jupyter.widget-view+json": {
       "model_id": "aa04d358ad3a422aac98c84e3120c877",
       "version_major": 2,
       "version_minor": 0
      },
      "text/plain": [
       "HBox(children=(Figure(axes=[Axis(grid_lines='none', label='Days of a week', scale=OrdinalScale(), side='bottom…"
      ]
     },
     "metadata": {},
     "output_type": "display_data"
    }
   ],
   "source": [
    "# display(ipy.HBox([drop_drug]))\n",
    "# display(ipy.HBox([my_map, fig_loc]))\n",
    "# display(ipy.HBox([week_fig, year_fig]))\n",
    "display(ipy.HBox([drop_drug]))\n",
    "display(ipy.HBox([my_map, fig_loc]))\n",
    "display(ipy.HBox([week_fig, year_fig]))"
   ]
  },
  {
   "cell_type": "code",
   "execution_count": 21,
   "metadata": {},
   "outputs": [],
   "source": [
    "df_adrd['Sex'].fillna(value = 'Unknown', inplace=True)"
   ]
  },
  {
   "cell_type": "code",
   "execution_count": 22,
   "metadata": {},
   "outputs": [],
   "source": [
    "# A dataframe containing gender wise grouped drug deaths\n",
    "df_sex = pd.DataFrame()\n",
    "df_sex['Heroin'] = df_adrd.groupby(['Sex']).Heroin.count()\n",
    "df_sex['Cocaine'] = df_adrd.groupby(['Sex']).Cocaine.count()\n",
    "df_sex['Fentanyl'] = df_adrd.groupby(['Sex']).Fentanyl.count()\n",
    "df_sex['FentanylAnalogue'] = df_adrd.groupby(['Sex']).FentanylAnalogue.count()\n",
    "df_sex['Oxycodone'] = df_adrd.groupby(['Sex']).Oxycodone.count()\n",
    "df_sex['Oxymorphone'] = df_adrd.groupby(['Sex']).Oxymorphone.count()\n",
    "df_sex['Ethanol'] = df_adrd.groupby(['Sex']).Ethanol.count()\n",
    "df_sex['Hydrocodone'] = df_adrd.groupby(['Sex']).Hydrocodone.count()\n",
    "df_sex['Benzodiazepine'] = df_adrd.groupby(['Sex']).Benzodiazepine.count()\n",
    "df_sex['Methadone'] = df_adrd.groupby(['Sex']).Methadone.count()\n",
    "df_sex['Amphet'] = df_adrd.groupby(['Sex']).Amphet.count()\n",
    "df_sex['Tramad'] = df_adrd.groupby(['Sex']).Tramad.count()\n",
    "df_sex['Morphine_NotHeroin'] = df_adrd.groupby(['Sex']).Morphine_NotHeroin.count()\n",
    "df_sex['Hydromorphone'] = df_adrd.groupby(['Sex']).Hydromorphone.count()\n",
    "df_sex['Other'] = df_adrd.groupby(['Sex']).Other.count()\n",
    "df_sex['OpiateNOS'] = df_adrd.groupby(['Sex']).OpiateNOS.count()\n",
    "df_sex['AnyOpioid'] = df_adrd.groupby(['Sex']).AnyOpioid.count()"
   ]
  },
  {
   "cell_type": "code",
   "execution_count": 23,
   "metadata": {},
   "outputs": [],
   "source": [
    "tdf_sex = df_sex.transpose()"
   ]
  },
  {
   "cell_type": "code",
   "execution_count": 24,
   "metadata": {},
   "outputs": [
    {
     "data": {
      "application/vnd.jupyter.widget-view+json": {
       "model_id": "94f8fac9d5ca439494ffc6ff4b81f46f",
       "version_major": 2,
       "version_minor": 0
      },
      "text/plain": [
       "VBox(children=(Dropdown(description='Select Gender:', options=('Male', 'Female', 'Unknown'), value='Male'), Fi…"
      ]
     },
     "metadata": {},
     "output_type": "display_data"
    }
   ],
   "source": [
    "# Using bqplot to make a bar chart for easier comparison\n",
    "sex_dropdown = ipy.Dropdown(options = ['Male', 'Female', 'Unknown'],\n",
    "                            value = 'Male',\n",
    "                            disabled = False,\n",
    "                           description = 'Select Gender:')\n",
    "\n",
    "x_sc = bq.OrdinalScale()\n",
    "y_sc = bq.LinearScale()\n",
    "\n",
    "x_ax = bq.Axis(scale = x_sc, offset = {'value':'100px'}, orientation = 'vertical')\n",
    "y_ax = bq.Axis(scale = y_sc, grid_lines = 'dashed', label = 'Drug caused deaths')\n",
    "\n",
    "x_data = list(tdf_sex.index)\n",
    "y_data = np.array(tdf_sex[sex_dropdown.value])\n",
    "\n",
    "bars = bq.marks.Bars(x = x_data,\n",
    "              y = y_data,\n",
    "              colors = ['red'],\n",
    "              scales={'x':x_sc, 'y':y_sc},\n",
    "              padding = 0.1,\n",
    "               orientation = 'horizontal'\n",
    "              )\n",
    "\n",
    "fig = bq.Figure(marks = [bars], axes = [x_ax, y_ax], title = 'Drug effects on Males', padding_y = 0.1)\n",
    "fig.layout.height = '700px'\n",
    "fig.layout.width = '1000px'\n",
    "\n",
    "\n",
    "def on_drop_change(event):\n",
    "    bars.y = np.array(tdf_sex[event['new']])\n",
    "    fig.title = 'Drug effects on ' + event['new'] + 's' \n",
    "    \n",
    "sex_dropdown.observe(on_drop_change, ['value'])\n",
    "    \n",
    "display(ipy.VBox([sex_dropdown, fig]))"
   ]
  },
  {
   "cell_type": "code",
   "execution_count": 25,
   "metadata": {},
   "outputs": [],
   "source": [
    "# import numpy as np\n",
    "# from bqplot import *\n",
    "# from IPython.display import Javascript, display, clear_output\n",
    "# import ipywidgets as widgets\n",
    "\n",
    "# size = 100\n",
    "# scale = 100.\n",
    "# np.random.seed(0)\n",
    "# x_data = np.arange(size)\n",
    "# y_data = np.cumsum(np.random.randn(size)  * scale)\n",
    "\n",
    "# x_sc = LinearScale()\n",
    "# y_sc = LinearScale()\n",
    "\n",
    "# ax_x = Axis(label='X', scale=x_sc, grid_lines='solid')\n",
    "# ax_y = Axis(label='Y', scale=y_sc, orientation='vertical', grid_lines='solid')\n",
    "\n",
    "# line = Lines(x=x_data, y=x_data, scales={'x': x_sc, 'y': y_sc})\n",
    "# figy=[]\n",
    "# for i in range(2):\n",
    "#     figx=[]\n",
    "#     for j in range(3):\n",
    "#         figx.append(bq.Figure(axes=[ax_x, ax_y], marks=[line], title='Example' + str(i*3+j), fig_margin = dict(top=30, bottom=10, left=20, right=20)))\n",
    "#     figy.append(widgets.HBox(figx)) \n",
    "# display(widgets.VBox(figy, align_content = 'stretch'))"
   ]
  },
  {
   "cell_type": "code",
   "execution_count": null,
   "metadata": {},
   "outputs": [],
   "source": []
  }
 ],
 "metadata": {
  "kernelspec": {
   "display_name": "Python 3",
   "language": "python",
   "name": "python3"
  },
  "language_info": {
   "codemirror_mode": {
    "name": "ipython",
    "version": 3
   },
   "file_extension": ".py",
   "mimetype": "text/x-python",
   "name": "python",
   "nbconvert_exporter": "python",
   "pygments_lexer": "ipython3",
   "version": "3.7.3"
  }
 },
 "nbformat": 4,
 "nbformat_minor": 2
}
