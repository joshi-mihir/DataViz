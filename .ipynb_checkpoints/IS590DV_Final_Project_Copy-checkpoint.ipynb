{
 "cells": [
  {
   "cell_type": "code",
   "execution_count": 1,
   "metadata": {},
   "outputs": [],
   "source": [
    "import pandas as pd\n",
    "import numpy as np\n",
    "import matplotlib.pyplot as plt\n",
    "from datetime import datetime\n",
    "import bqplot as bq\n",
    "import ipywidgets as ipy\n",
    "# import calendar\n",
    "import squarify\n",
    "import matplotlib\n",
    "import bqplot.market_map\n",
    "import nbinteract\n",
    "%matplotlib inline"
   ]
  },
  {
   "cell_type": "code",
   "execution_count": 2,
   "metadata": {},
   "outputs": [],
   "source": [
    "df_adrd = pd.read_csv(\"Accidental_Drug_Related_Deaths_2012-2018.csv\")"
   ]
  },
  {
   "cell_type": "code",
   "execution_count": 3,
   "metadata": {},
   "outputs": [],
   "source": [
    "df_adrd['Year'] = pd.to_datetime(df_adrd['Date']).dt.year\n",
    "df_adrd['Year'].fillna(0, inplace=True)\n",
    "df_adrd['Year'] = df_adrd['Year'].apply(int)"
   ]
  },
  {
   "cell_type": "code",
   "execution_count": 4,
   "metadata": {},
   "outputs": [],
   "source": [
    "df_top_drugs = pd.DataFrame()\n",
    "\n",
    "df_top_drugs['Heroin'] = df_adrd.groupby('Year').Heroin.count()\n",
    "\n",
    "df_top_drugs['Cocaine'] = df_adrd.groupby('Year').Cocaine.count()\n",
    "\n",
    "df_top_drugs['Fentanyl'] = df_adrd.groupby('Year').Fentanyl.count()\n",
    "\n",
    "df_top_drugs['Benzodiazepine'] = df_adrd.groupby('Year').Benzodiazepine.count()\n",
    "\n",
    "df_top_drugs['Ethanol'] = df_adrd.groupby('Year').Ethanol.count()"
   ]
  },
  {
   "cell_type": "code",
   "execution_count": 5,
   "metadata": {},
   "outputs": [],
   "source": [
    "df_top_drugs.reset_index(inplace = True)\n",
    "df_top_drugs = df_top_drugs[df_top_drugs.Year != 0]"
   ]
  },
  {
   "cell_type": "markdown",
   "metadata": {},
   "source": [
    "### Selectors"
   ]
  },
  {
   "cell_type": "markdown",
   "metadata": {},
   "source": [
    "#### 1. Drugs dropdown"
   ]
  },
  {
   "cell_type": "code",
   "execution_count": 6,
   "metadata": {},
   "outputs": [
    {
     "data": {
      "application/vnd.jupyter.widget-view+json": {
       "model_id": "cdc1df7471f94502b70e496cb9e494e1",
       "version_major": 2,
       "version_minor": 0
      },
      "text/plain": [
       "Dropdown(options=('Benzodiazepine', 'Cocaine', 'Ethanol', 'Fentanyl', 'Heroin', 'FentanylAnalogue', 'Oxycodone…"
      ]
     },
     "metadata": {},
     "output_type": "display_data"
    }
   ],
   "source": [
    "drop_drug = ipy.Dropdown(\n",
    "            options=['Benzodiazepine', 'Cocaine', 'Ethanol', 'Fentanyl', 'Heroin','FentanylAnalogue','Oxycodone','Oxymorphone',\n",
    "                    'Hydrocodone','Methadone','Amphet','Tramad','Morphine_NotHeroin','Hydromorphone','OpiateNOS','AnyOpioid'],\n",
    "            value='Benzodiazepine',\n",
    "            disabled=False\n",
    "        )\n",
    "drop_drug"
   ]
  },
  {
   "cell_type": "code",
   "execution_count": null,
   "metadata": {},
   "outputs": [],
   "source": []
  }
 ],
 "metadata": {
  "kernelspec": {
   "display_name": "Python 3",
   "language": "python",
   "name": "python3"
  },
  "language_info": {
   "codemirror_mode": {
    "name": "ipython",
    "version": 3
   },
   "file_extension": ".py",
   "mimetype": "text/x-python",
   "name": "python",
   "nbconvert_exporter": "python",
   "pygments_lexer": "ipython3",
   "version": "3.7.3"
  }
 },
 "nbformat": 4,
 "nbformat_minor": 2
}
